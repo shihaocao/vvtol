{
 "cells": [
  {
   "cell_type": "code",
   "execution_count": 21,
   "metadata": {},
   "outputs": [],
   "source": [
    "# Import necessary modules\n",
    "import pythreejs as p3\n",
    "import ipywidgets as widgets\n",
    "from IPython.display import display\n",
    "\n",
    "# Create a sphere geometry\n",
    "sphere_geometry = p3.SphereGeometry(radius=1, widthSegments=32, heightSegments=32)\n",
    "\n",
    "# Create a pastel-colored material for the sphere\n",
    "sphere_material = p3.MeshStandardMaterial(color='#ADD8E6')  # Light pastel blue\n",
    "\n",
    "# Combine geometry and material into a mesh\n",
    "sphere = p3.Mesh(geometry=sphere_geometry, material=sphere_material)\n",
    "\n",
    "# Create a light source\n",
    "light = p3.PointLight(color='#ffffff', intensity=1.5, position=[5, 5, 5])\n",
    "amb_light = p3.AmbientLight(color='#777777')\n",
    "# Create a camera\n",
    "camera = p3.PerspectiveCamera(position=[10, 10, 10], fov=75)\n",
    "\n",
    "scene_items = []\n",
    "scene_items.extend([sphere, light, camera, amb_light])"
   ]
  },
  {
   "cell_type": "code",
   "execution_count": 32,
   "metadata": {},
   "outputs": [],
   "source": [
    "import pythreejs as p3\n",
    "from enum import Enum\n",
    "\n",
    "class ColorPalette(Enum):\n",
    "    LightRed = '#FFB6C1'\n",
    "    LightGreen = '#90EE90'\n",
    "    LightBlue = '#87CEFA'\n",
    "\n",
    "def create_axes():\n",
    "    # Function to create a line with graduations along an axis\n",
    "    def create_axis_line(start, end, color):\n",
    "        # Main axis line\n",
    "        axis_geometry = p3.BufferGeometry(attributes={\n",
    "            'position': p3.BufferAttribute(array=[start, end], normalized=False),\n",
    "        })\n",
    "        axis_material = p3.LineBasicMaterial(color=color)\n",
    "        axis = p3.Line(geometry=axis_geometry, material=axis_material)\n",
    "        \n",
    "        # Create graduations every 2 units along the axis\n",
    "        graduation_lines = []\n",
    "        step = 2\n",
    "        for i in range(-20, 21, step):\n",
    "            if i != 0:  # Skip the origin\n",
    "                if start[0] != 0:  # X-axis\n",
    "                    grad_start = [i, -0.2, 0]\n",
    "                    grad_end = [i, 0.2, 0]\n",
    "                elif start[1] != 0:  # Y-axis\n",
    "                    grad_start = [-0.2, i, 0]\n",
    "                    grad_end = [0.2, i, 0]\n",
    "                else:  # Z-axis\n",
    "                    grad_start = [-0.2, 0, i]\n",
    "                    grad_end = [0.2, 0, i]\n",
    "\n",
    "                grad_geometry = p3.BufferGeometry(attributes={\n",
    "                    'position': p3.BufferAttribute(array=[grad_start, grad_end], normalized=False),\n",
    "                })\n",
    "                grad_material = p3.LineBasicMaterial(color=color)\n",
    "                graduation_lines.append(p3.Line(geometry=grad_geometry, material=grad_material))\n",
    "        \n",
    "        return [axis] + graduation_lines\n",
    "    \n",
    "    # Create XYZ axes with graduations\n",
    "    x_axis_items = create_axis_line([20, 0, 0], [-20, 0, 0], ColorPalette.LightRed.value)\n",
    "    y_axis_items = create_axis_line([0, 20, 0], [0, -20, 0], ColorPalette.LightGreen.value)\n",
    "    z_axis_items = create_axis_line([0, 0, 20], [0, 0, -20], ColorPalette.LightBlue.value)\n",
    "    \n",
    "    return x_axis_items + y_axis_items + z_axis_items\n",
    "\n",
    "# Create the axes and extend the scene items\n",
    "axes = create_axes()\n",
    "scene_items.extend(axes)\n"
   ]
  },
  {
   "cell_type": "code",
   "execution_count": 33,
   "metadata": {},
   "outputs": [
    {
     "data": {
      "application/vnd.jupyter.widget-view+json": {
       "model_id": "9defb762abc64a378e4a4ec723eff8d2",
       "version_major": 2,
       "version_minor": 0
      },
      "text/plain": [
       "Renderer(camera=PerspectiveCamera(fov=75.0, position=(-16.18947350341077, 11.410453783395694, -12.762751819488…"
      ]
     },
     "metadata": {},
     "output_type": "display_data"
    }
   ],
   "source": [
    "# Create a scene with a black background and add the sphere, light, and axes to it\n",
    "scene = p3.Scene(children=scene_items, background='#000000')\n",
    "\n",
    "# Create a renderer with a controllable orbit view\n",
    "renderer = p3.Renderer(camera=camera, scene=scene, controls=[p3.OrbitControls(controlling=camera)], width=800, height=800)\n",
    "\n",
    "# Display the renderer\n",
    "display(renderer)"
   ]
  },
  {
   "cell_type": "code",
   "execution_count": null,
   "metadata": {},
   "outputs": [],
   "source": []
  }
 ],
 "metadata": {
  "kernelspec": {
   "display_name": "Python 3 (ipykernel)",
   "language": "python",
   "name": "python3"
  },
  "language_info": {
   "codemirror_mode": {
    "name": "ipython",
    "version": 3
   },
   "file_extension": ".py",
   "mimetype": "text/x-python",
   "name": "python",
   "nbconvert_exporter": "python",
   "pygments_lexer": "ipython3",
   "version": "3.11.9"
  }
 },
 "nbformat": 4,
 "nbformat_minor": 4
}
