{
 "cells": [
  {
   "cell_type": "code",
   "execution_count": 14,
   "metadata": {},
   "outputs": [],
   "source": [
    "# Import necessary modules\n",
    "import pythreejs as p3\n",
    "import ipywidgets as widgets\n",
    "from IPython.display import display\n",
    "\n",
    "# Create a sphere geometry\n",
    "sphere_geometry = p3.SphereGeometry(radius=1, widthSegments=32, heightSegments=32)\n",
    "\n",
    "# Create a pastel-colored material for the sphere\n",
    "sphere_material = p3.MeshStandardMaterial(color='#ADD8E6')  # Light pastel blue\n",
    "\n",
    "# Combine geometry and material into a mesh\n",
    "sphere = p3.Mesh(geometry=sphere_geometry, material=sphere_material)\n",
    "\n",
    "# Create a light source\n",
    "light = p3.PointLight(color='#ffffff', intensity=1.5, position=[5, 5, 5])\n",
    "\n",
    "# Create a camera\n",
    "camera = p3.PerspectiveCamera(position=[10, 10, 10], fov=75)\n",
    "\n",
    "scene_items = []"
   ]
  },
  {
   "cell_type": "code",
   "execution_count": 15,
   "metadata": {},
   "outputs": [
    {
     "data": {
      "text/plain": [
       "(Line(geometry=BufferGeometry(attributes={'position': BufferAttribute(array=array([[  0,   0,   0],\n",
       "        [ 20,   0,   0],\n",
       "        [-20,   0,   0]], dtype=int32))}), material=LineBasicMaterial(color='#FFB6C1'), position=(0.0, 0.0, 0.0), quaternion=(0.0, 0.0, 0.0, 1.0), rotation=(0.0, 0.0, 0.0, 'XYZ'), scale=(1.0, 1.0, 1.0), up=(0.0, 1.0, 0.0)),\n",
       " Line(geometry=BufferGeometry(attributes={'position': BufferAttribute(array=array([[  0,   0,   0],\n",
       "        [  0,  20,   0],\n",
       "        [  0, -20,   0]], dtype=int32))}), material=LineBasicMaterial(color='#90EE90'), position=(0.0, 0.0, 0.0), quaternion=(0.0, 0.0, 0.0, 1.0), rotation=(0.0, 0.0, 0.0, 'XYZ'), scale=(1.0, 1.0, 1.0), up=(0.0, 1.0, 0.0)),\n",
       " Line(geometry=BufferGeometry(attributes={'position': BufferAttribute(array=array([[  0,   0,   0],\n",
       "        [  0,   0,  20],\n",
       "        [  0,   0, -20]], dtype=int32))}), material=LineBasicMaterial(color='#87CEFA'), position=(0.0, 0.0, 0.0), quaternion=(0.0, 0.0, 0.0, 1.0), rotation=(0.0, 0.0, 0.0, 'XYZ'), scale=(1.0, 1.0, 1.0), up=(0.0, 1.0, 0.0)))"
      ]
     },
     "execution_count": 15,
     "metadata": {},
     "output_type": "execute_result"
    }
   ],
   "source": [
    "from enum import Enum\n",
    "\n",
    "class ColorPalette(Enum):\n",
    "    LightRed = '#FFB6C1'\n",
    "    LightGreen = '#90EE90'\n",
    "    LightBlue = '#87CEFA'\n",
    "\n",
    "def create_axes():\n",
    "    # Create the pastel-colored XYZ axes using ColorPalette Enum\n",
    "    x_axis_geometry = p3.BufferGeometry(attributes={\n",
    "        'position': p3.BufferAttribute(array=[[0, 0, 0], [20, 0, 0], [-20, 0, 0]], normalized=False),\n",
    "    })\n",
    "    x_axis_material = p3.LineBasicMaterial(color=ColorPalette.LightRed.value)  # Light pastel red\n",
    "    x_axis = p3.Line(geometry=x_axis_geometry, material=x_axis_material)\n",
    "    \n",
    "    y_axis_geometry = p3.BufferGeometry(attributes={\n",
    "        'position': p3.BufferAttribute(array=[[0, 0, 0], [0, 20, 0], [0, -20, 0]], normalized=False),\n",
    "    })\n",
    "    y_axis_material = p3.LineBasicMaterial(color=ColorPalette.LightGreen.value)  # Light pastel green\n",
    "    y_axis = p3.Line(geometry=y_axis_geometry, material=y_axis_material)\n",
    "    \n",
    "    z_axis_geometry = p3.BufferGeometry(attributes={\n",
    "        'position': p3.BufferAttribute(array=[[0, 0, 0], [0, 0, 20], [0, 0, -20]], normalized=False),\n",
    "    })\n",
    "    z_axis_material = p3.LineBasicMaterial(color=ColorPalette.LightBlue.value)  # Light pastel blue\n",
    "    z_axis = p3.Line(geometry=z_axis_geometry, material=z_axis_material)\n",
    "    \n",
    "    return x_axis, y_axis, z_axis\n",
    "create_axes()\n"
   ]
  },
  {
   "cell_type": "code",
   "execution_count": 16,
   "metadata": {},
   "outputs": [
    {
     "data": {
      "application/vnd.jupyter.widget-view+json": {
       "model_id": "1cf90faf44a14fc698e85b95b589ac38",
       "version_major": 2,
       "version_minor": 0
      },
      "text/plain": [
       "Renderer(camera=PerspectiveCamera(fov=75.0, position=(10.0, 10.0, 10.0), projectionMatrix=(1.3032253728412058,…"
      ]
     },
     "metadata": {},
     "output_type": "display_data"
    }
   ],
   "source": [
    "# Create a scene with a black background and add the sphere, light, and axes to it\n",
    "scene = p3.Scene(children=[sphere, light, p3.AmbientLight(color='#777777'), x_axis, y_axis, z_axis], background='#000000')\n",
    "\n",
    "# Create a renderer with a controllable orbit view\n",
    "renderer = p3.Renderer(camera=camera, scene=scene, controls=[p3.OrbitControls(controlling=camera)], width=800, height=800)\n",
    "\n",
    "# Display the renderer\n",
    "display(renderer)"
   ]
  },
  {
   "cell_type": "code",
   "execution_count": null,
   "metadata": {},
   "outputs": [],
   "source": []
  }
 ],
 "metadata": {
  "kernelspec": {
   "display_name": "Python 3 (ipykernel)",
   "language": "python",
   "name": "python3"
  },
  "language_info": {
   "codemirror_mode": {
    "name": "ipython",
    "version": 3
   },
   "file_extension": ".py",
   "mimetype": "text/x-python",
   "name": "python",
   "nbconvert_exporter": "python",
   "pygments_lexer": "ipython3",
   "version": "3.11.9"
  }
 },
 "nbformat": 4,
 "nbformat_minor": 4
}
